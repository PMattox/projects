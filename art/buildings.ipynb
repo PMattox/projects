{
 "cells": [
  {
   "cell_type": "markdown",
   "id": "013897e4",
   "metadata": {},
   "source": [
    "# Image Art\n",
    "\n",
    "Inspired by that one thing I saw in the UMSL Collabitat - my attempt at taking an image and transforming it in ways that are interesting to look at."
   ]
  },
  {
   "cell_type": "code",
   "execution_count": 1,
   "id": "b8f98bbc",
   "metadata": {},
   "outputs": [],
   "source": [
    "import numpy as np\n",
    "from PIL import Image, ImageOps, ImageFilter # import Pillow\n",
    "\n",
    "# import random\n",
    "from random import *"
   ]
  },
  {
   "cell_type": "code",
   "execution_count": 3,
   "id": "f69fc8e9",
   "metadata": {},
   "outputs": [
    {
     "name": "stdout",
     "output_type": "stream",
     "text": [
      "<class 'PIL.JpegImagePlugin.JpegImageFile'>\n"
     ]
    },
    {
     "data": {
      "text/plain": [
       "True"
      ]
     },
     "execution_count": 3,
     "metadata": {},
     "output_type": "execute_result"
    }
   ],
   "source": [
    "# load an image\n",
    "filename = \"images/stl1.jpg\"\n",
    "# filename = \"images/blocks.jpg\"\n",
    "with Image.open(filename) as img:\n",
    "    img.load()\n",
    "\n",
    "print(type(img))\n",
    "\n",
    "isinstance(img, Image.Image)"
   ]
  },
  {
   "cell_type": "markdown",
   "id": "8594c173",
   "metadata": {},
   "source": [
    "## Display the image"
   ]
  },
  {
   "cell_type": "code",
   "execution_count": null,
   "id": "ea17e31f",
   "metadata": {},
   "outputs": [],
   "source": [
    "# display the image in system native format (pop up window on mac)\n",
    "# img.show()"
   ]
  },
  {
   "cell_type": "code",
   "execution_count": null,
   "id": "90de1a89",
   "metadata": {},
   "outputs": [],
   "source": [
    "# display the image in notebook\n",
    "display(img)"
   ]
  },
  {
   "cell_type": "code",
   "execution_count": null,
   "id": "d4ce37ee",
   "metadata": {},
   "outputs": [],
   "source": [
    "# convert to numpy array\n",
    "img_array = np.asarray(img)"
   ]
  },
  {
   "cell_type": "code",
   "execution_count": null,
   "id": "15757b6e",
   "metadata": {},
   "outputs": [],
   "source": [
    "# print details\n",
    "height,width,bands = img_array.shape\n",
    "print(\"y dim = {}\".format(height))\n",
    "print(\"x dim = {}\".format(width))\n",
    "print(\"bands = {}\".format(bands))"
   ]
  },
  {
   "cell_type": "code",
   "execution_count": null,
   "id": "c6201eae",
   "metadata": {
    "scrolled": true
   },
   "outputs": [],
   "source": [
    "# convert numpy array back to displayable image\n",
    "display(Image.fromarray(img_array))"
   ]
  },
  {
   "cell_type": "code",
   "execution_count": null,
   "id": "25b6a6a0",
   "metadata": {},
   "outputs": [],
   "source": [
    "# slice the image\n",
    "new_h = int(height/4)\n",
    "new_img = img_array[:new_h,:,:]\n",
    "\n",
    "display(Image.fromarray(new_img))"
   ]
  },
  {
   "cell_type": "code",
   "execution_count": null,
   "id": "a1211490",
   "metadata": {},
   "outputs": [],
   "source": [
    "# slice in the other direction\n",
    "new_w = int(width/4)\n",
    "new_img = img_array[:,:new_w,:]\n",
    "\n",
    "display(Image.fromarray(new_img))"
   ]
  },
  {
   "cell_type": "code",
   "execution_count": null,
   "id": "f730204a",
   "metadata": {},
   "outputs": [],
   "source": [
    "new_img.shape"
   ]
  },
  {
   "cell_type": "code",
   "execution_count": null,
   "id": "2ca3cbd5",
   "metadata": {
    "scrolled": true
   },
   "outputs": [],
   "source": [
    "# img_array[900,0:10,:]"
   ]
  },
  {
   "cell_type": "markdown",
   "id": "80a9f87a",
   "metadata": {},
   "source": [
    "## Random box in image"
   ]
  },
  {
   "cell_type": "code",
   "execution_count": null,
   "id": "c08d7c92",
   "metadata": {},
   "outputs": [],
   "source": [
    "# could possibly turn this into a function that returns a dict\n",
    "#   def rand_box(img_array, h_size=100, w_size=100):\n",
    "h_size = 200\n",
    "w_size = 100\n",
    "height,width,bands = img_array.shape\n",
    "\n",
    "# random positions\n",
    "rand_h_pos = randint(1, height)\n",
    "rand_w_pos = randint(1, width)\n",
    "\n",
    "box_h1 = int(rand_h_pos-(h_size/2))\n",
    "box_h2 = int(rand_h_pos+(h_size/2))\n",
    "\n",
    "box_w1 = int(rand_w_pos-(w_size/2))\n",
    "box_w2 = int(rand_w_pos+(w_size/2))\n",
    "\n",
    "# make sure new coords are within image bounds\n",
    "if box_h1 < 0: box_h1 = 0\n",
    "if box_w1 < 0: box_w1 = 0\n",
    "if box_h2 > height: box_h2 = height\n",
    "if box_w2 > width: box_w2 = width\n",
    "    \n",
    "print(\"Random box: [{}:{},{}:{}]\".format(box_h1,box_h2,box_w1,box_w2))\n",
    "\n",
    "rand_img_piece = img_array[box_h1:box_h2,box_w1:box_w2,:]\n",
    "display(Image.fromarray(rand_img_piece))\n",
    "    \n",
    "#     return rand_img_piece"
   ]
  },
  {
   "cell_type": "markdown",
   "id": "f867e4bc",
   "metadata": {},
   "source": [
    "## Transform the random box"
   ]
  },
  {
   "cell_type": "code",
   "execution_count": null,
   "id": "3e5c9eb8",
   "metadata": {},
   "outputs": [],
   "source": [
    "rand_box_avg = int(np.average(rand_img_piece))"
   ]
  },
  {
   "cell_type": "code",
   "execution_count": null,
   "id": "234cb11d",
   "metadata": {},
   "outputs": [],
   "source": [
    "# change all values in the box to the average\n",
    "\n",
    "shape = (box_h2-box_h1,box_w2-box_w1,3)\n",
    "value = rand_box_avg\n",
    "print(shape)\n",
    "rand_box_xform = np.empty(shape, dtype=int)\n",
    "rand_box_xform.fill(value)"
   ]
  },
  {
   "cell_type": "code",
   "execution_count": null,
   "id": "b8350e3a",
   "metadata": {},
   "outputs": [],
   "source": [
    "Image.fromarray((rand_box_xform * 1).astype(np.uint8)).convert('RGB')"
   ]
  },
  {
   "cell_type": "code",
   "execution_count": null,
   "id": "1bd65a6e",
   "metadata": {},
   "outputs": [],
   "source": [
    "# need to do this on a per-band basis"
   ]
  },
  {
   "cell_type": "code",
   "execution_count": null,
   "id": "1dd74880",
   "metadata": {},
   "outputs": [],
   "source": [
    "# figure out the size of the shape we're transforming\n",
    "#   we do this because it could be different than simply (h_size, w_size, bands)\n",
    "#   selections near the image edges will cause this\n",
    "shape = (box_h2-box_h1,box_w2-box_w1,bands)\n",
    "print(shape)\n",
    "\n",
    "# create a new numpy array to hold the tranformed data\n",
    "rand_box_xform = np.empty(shape, dtype=int)\n",
    "\n",
    "for i in range(bands):\n",
    "    rand_box_avg = int(np.average(rand_img_piece[:,:,i]))\n",
    "    print(i,\" : \",rand_box_avg)\n",
    "    rand_box_xform[:,:,i].fill(value)"
   ]
  },
  {
   "cell_type": "code",
   "execution_count": null,
   "id": "8b337930",
   "metadata": {},
   "outputs": [],
   "source": [
    "rand_box_xform.shape"
   ]
  },
  {
   "cell_type": "code",
   "execution_count": null,
   "id": "2f555505",
   "metadata": {},
   "outputs": [],
   "source": [
    "newi = Image.fromarray((rand_box_xform).astype(np.uint8)).convert('RGB')"
   ]
  },
  {
   "cell_type": "code",
   "execution_count": null,
   "id": "10492bd9",
   "metadata": {},
   "outputs": [],
   "source": [
    "newi"
   ]
  },
  {
   "cell_type": "markdown",
   "id": "7fcff3b3",
   "metadata": {},
   "source": [
    "### Look at DOMINANT color instead\n",
    "\n",
    "https://stackoverflow.com/questions/43111029/how-to-find-the-average-colour-of-an-image-in-python-with-opencv"
   ]
  },
  {
   "cell_type": "code",
   "execution_count": null,
   "id": "d3deba3f",
   "metadata": {},
   "outputs": [],
   "source": [
    "# avg_patch = np.ones(shape=rand_img_piece.shape, dtype=np.uint8)*np.uint8(average)\n",
    "\n",
    "# indices = np.argsort(counts)[::-1]   \n",
    "# freqs = np.cumsum(np.hstack([[0], counts[indices]/float(counts.sum())]))\n",
    "# rows = np.int_(rand_img_piece.shape[0]*freqs)\n",
    "\n",
    "# dom_patch = np.zeros(shape=rand_img_piece.shape, dtype=np.uint8)\n",
    "# for i in range(len(rows) - 1):\n",
    "#     dom_patch[rows[i]:rows[i + 1], :, :] += np.uint8(palette[indices[i]])"
   ]
  },
  {
   "cell_type": "markdown",
   "id": "3011b19f",
   "metadata": {},
   "source": [
    "### Rotate/flip the piece\n",
    "\n",
    "https://www.geeksforgeeks.org/python-pillow-flip-and-rotate-images/\n"
   ]
  },
  {
   "cell_type": "code",
   "execution_count": null,
   "id": "fc30f20f",
   "metadata": {},
   "outputs": [],
   "source": [
    "# rotate\n",
    "img_rot = Image.fromarray(rand_img_piece).transpose(Image.ROTATE_180)\n",
    "\n",
    "display(img_rot)"
   ]
  },
  {
   "cell_type": "code",
   "execution_count": null,
   "id": "081fc051",
   "metadata": {},
   "outputs": [],
   "source": [
    "# flip\n",
    "img_flip = Image.fromarray(rand_img_piece).transpose(Image.FLIP_TOP_BOTTOM)\n",
    "\n",
    "display(img_flip)\n"
   ]
  },
  {
   "cell_type": "code",
   "execution_count": null,
   "id": "a5d73203",
   "metadata": {},
   "outputs": [],
   "source": [
    "img_flip_back = img_flip.transpose(Image.FLIP_TOP_BOTTOM)\n",
    "\n",
    "display(img_flip_back)\n"
   ]
  },
  {
   "cell_type": "markdown",
   "id": "943569f5",
   "metadata": {},
   "source": [
    "### Blur the piece\n"
   ]
  },
  {
   "cell_type": "code",
   "execution_count": null,
   "id": "640ced62",
   "metadata": {},
   "outputs": [],
   "source": [
    "# blur\n",
    "img_blur = Image.fromarray(rand_img_piece).filter(ImageFilter.BoxBlur(10))\n",
    "\n",
    "display(img_blur)"
   ]
  },
  {
   "cell_type": "code",
   "execution_count": null,
   "id": "b2b7dabb",
   "metadata": {},
   "outputs": [],
   "source": [
    "img_blur = Image.fromarray(rand_img_piece).filter(ImageFilter.GaussianBlur(25))\n",
    "\n",
    "display(img_blur)"
   ]
  },
  {
   "cell_type": "markdown",
   "id": "429f3c36",
   "metadata": {},
   "source": [
    "## Put the piece back into the original image"
   ]
  },
  {
   "cell_type": "code",
   "execution_count": null,
   "id": "94e2f263",
   "metadata": {},
   "outputs": [],
   "source": [
    "img_out = img.copy()\n",
    "img_out.paste(img_flip, (box_w1, box_h1)) # position is (x coordinate in upper left, y coordinate in upper left) \n",
    "\n",
    "display(img_out)"
   ]
  },
  {
   "cell_type": "markdown",
   "id": "91286e23",
   "metadata": {},
   "source": [
    "## Loop this process multiple times"
   ]
  },
  {
   "cell_type": "code",
   "execution_count": null,
   "id": "63cfaabd",
   "metadata": {},
   "outputs": [],
   "source": [
    "# create a copy of the source image\n",
    "img_out = img.copy()"
   ]
  },
  {
   "cell_type": "code",
   "execution_count": null,
   "id": "9651aae1",
   "metadata": {},
   "outputs": [],
   "source": [
    "# def img_art_flips(img, h_size=100, w_size=100):\n",
    "# #     h_size = 200\n",
    "# #     w_size = 100\n",
    "#     height,width,bands = img_array.shape\n",
    "\n",
    "#     # random positions\n",
    "#     rand_h_pos = randint(1, height)\n",
    "#     rand_w_pos = randint(1, width)\n",
    "\n",
    "#     box_h1 = int(rand_h_pos-(h_size/2))\n",
    "#     box_h2 = int(rand_h_pos+(h_size/2))\n",
    "\n",
    "#     box_w1 = int(rand_w_pos-(w_size/2))\n",
    "#     box_w2 = int(rand_w_pos+(w_size/2))\n",
    "\n",
    "#     # make sure new coords are within image bounds\n",
    "#     if box_h1 < 0: box_h1 = 0\n",
    "#     if box_w1 < 0: box_w1 = 0\n",
    "#     if box_h2 > height: box_h2 = height\n",
    "#     if box_w2 > width: box_w2 = width\n",
    "\n",
    "# #     print(\"Random box: [{}:{},{}:{}]\".format(box_h1,box_h2,box_w1,box_w2))\n",
    "\n",
    "#     rand_img_piece = img_array[box_h1:box_h2,box_w1:box_w2,:]\n",
    "# #     display(Image.fromarray(rand_img_piece))\n",
    "\n",
    "#     # flip the random piece\n",
    "#     img_flip = Image.fromarray(rand_img_piece).transpose(Image.FLIP_TOP_BOTTOM)\n",
    "\n",
    "#     # put the piece back in the original image\n",
    "#     img_out.paste(img_flip, (box_w1, box_h1)) # position is (x coordinate in upper left, y coordinate in upper left) \n",
    "\n",
    "# #     display(img_out)"
   ]
  },
  {
   "cell_type": "code",
   "execution_count": 4,
   "id": "2fa9b21d",
   "metadata": {},
   "outputs": [],
   "source": [
    "def img_art_xforms(img, h_size=100, w_size=100, xform_type=\"rand\"):\n",
    "    xform_list = ['flip','gblur','grey','inv']\n",
    "    \n",
    "    img_array = np.asarray(img)\n",
    "    height,width,bands = img_array.shape\n",
    "\n",
    "    # random positions\n",
    "    rand_h_pos = randint(1, height)\n",
    "    rand_w_pos = randint(1, width)\n",
    "\n",
    "    box_h1 = int(rand_h_pos-(h_size/2))\n",
    "    box_h2 = int(rand_h_pos+(h_size/2))\n",
    "\n",
    "    box_w1 = int(rand_w_pos-(w_size/2))\n",
    "    box_w2 = int(rand_w_pos+(w_size/2))\n",
    "\n",
    "    # make sure new coords are within image bounds\n",
    "    if box_h1 < 0: box_h1 = 0\n",
    "    if box_w1 < 0: box_w1 = 0\n",
    "    if box_h2 > height: box_h2 = height\n",
    "    if box_w2 > width: box_w2 = width\n",
    "\n",
    "#     print(\"Random box: [{}:{},{}:{}]\".format(box_h1,box_h2,box_w1,box_w2))\n",
    "\n",
    "    rand_img_piece = img_array[box_h1:box_h2,box_w1:box_w2,:]\n",
    "#     display(Image.fromarray(rand_img_piece))\n",
    "\n",
    "    if xform_type == \"rand\": xform_type_i = choice(xform_list) # select random transform type\n",
    "        \n",
    "    if xform_type_i == \"flip\":\n",
    "        # flip the random piece\n",
    "        img_xform = Image.fromarray(rand_img_piece).transpose(Image.FLIP_TOP_BOTTOM)\n",
    "    elif xform_type_i == \"gblur\":\n",
    "        # gaussian blur the random piece\n",
    "        img_xform = Image.fromarray(rand_img_piece).filter(ImageFilter.GaussianBlur(25))\n",
    "    elif xform_type_i == \"grey\":\n",
    "        img_xform = Image.fromarray(rand_img_piece).convert(\"L\")\n",
    "    elif xform_type_i == \"inv\":\n",
    "        img_to_inv = Image.fromarray(rand_img_piece) # invert expects an image, not numpy array\n",
    "        img_xform = ImageOps.invert(img_to_inv)\n",
    "        \n",
    "    # put the piece back in the original image\n",
    "    img_out.paste(img_xform, (box_w1, box_h1)) # position is (x coordinate in upper left, y coordinate in upper left) \n",
    "        "
   ]
  },
  {
   "cell_type": "markdown",
   "id": "1dec00ee",
   "metadata": {},
   "source": [
    "### Put it all together in the final form"
   ]
  },
  {
   "cell_type": "code",
   "execution_count": 5,
   "id": "b0dcf6cc",
   "metadata": {},
   "outputs": [],
   "source": [
    "filename = \"images/stl1.jpg\"\n",
    "num_iter = 150\n",
    "h = 50\n",
    "w = 20\n",
    "\n",
    "with Image.open(filename) as img: \n",
    "    img.load()\n",
    "img_out = img.copy()\n",
    "    \n",
    "for i in range(num_iter):\n",
    "#     img_art_flips(img_out,h,w)\n",
    "    img_art_xforms(img_out,h,w)\n",
    "    \n",
    "# save result to file\n",
    "img_out.save(\"images/output.jpg\")\n",
    "\n",
    "# display(img_out) # show the result in this notebook\n",
    "img_out.show() # show the result in a popup "
   ]
  },
  {
   "cell_type": "code",
   "execution_count": null,
   "id": "d0c1d575",
   "metadata": {},
   "outputs": [],
   "source": []
  },
  {
   "cell_type": "markdown",
   "id": "8d4d451a",
   "metadata": {},
   "source": [
    "### References \n",
    "\n",
    "https://realpython.com/image-processing-with-the-python-pillow-library/\n",
    "\n",
    "https://datagy.io/python-return-multiple-values/\n",
    "\n",
    "https://note.nkmk.me/en/python-pillow-paste/\n",
    "\n",
    "https://stackoverflow.com/questions/43111029/how-to-find-the-average-colour-of-an-image-in-python-with-opencv"
   ]
  }
 ],
 "metadata": {
  "kernelspec": {
   "display_name": "Python 3",
   "language": "python",
   "name": "python3"
  },
  "language_info": {
   "codemirror_mode": {
    "name": "ipython",
    "version": 3
   },
   "file_extension": ".py",
   "mimetype": "text/x-python",
   "name": "python",
   "nbconvert_exporter": "python",
   "pygments_lexer": "ipython3",
   "version": "3.8.8"
  }
 },
 "nbformat": 4,
 "nbformat_minor": 5
}
