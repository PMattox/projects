{
 "cells": [
  {
   "cell_type": "code",
   "execution_count": 1,
   "id": "10c91154",
   "metadata": {},
   "outputs": [],
   "source": [
    "from matplotlib import pyplot as plt\n",
    "from matplotlib import image as img"
   ]
  },
  {
   "cell_type": "code",
   "execution_count": null,
   "id": "abeb9664",
   "metadata": {},
   "outputs": [],
   "source": [
    "\n",
    "plt.title(\"Sheep Image\")\n",
    "plt.xlabel(\"X pixel scaling\")\n",
    "plt.ylabel(\"Y pixels scaling\")\n",
    " \n",
    "image = mpimg.imread(\"sheep.png\")\n",
    "plt.imshow(image)\n",
    "plt.show()"
   ]
  }
 ],
 "metadata": {
  "kernelspec": {
   "display_name": "Python 3",
   "language": "python",
   "name": "python3"
  },
  "language_info": {
   "codemirror_mode": {
    "name": "ipython",
    "version": 3
   },
   "file_extension": ".py",
   "mimetype": "text/x-python",
   "name": "python",
   "nbconvert_exporter": "python",
   "pygments_lexer": "ipython3",
   "version": "3.8.8"
  }
 },
 "nbformat": 4,
 "nbformat_minor": 5
}
